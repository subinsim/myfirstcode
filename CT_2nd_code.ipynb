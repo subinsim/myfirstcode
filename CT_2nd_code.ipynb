{
  "nbformat": 4,
  "nbformat_minor": 0,
  "metadata": {
    "colab": {
      "provenance": [],
      "authorship_tag": "ABX9TyN4PpYyxgICgFGF1Xunl3UP",
      "include_colab_link": true
    },
    "kernelspec": {
      "name": "python3",
      "display_name": "Python 3"
    },
    "language_info": {
      "name": "python"
    }
  },
  "cells": [
    {
      "cell_type": "markdown",
      "metadata": {
        "id": "view-in-github",
        "colab_type": "text"
      },
      "source": [
        "<a href=\"https://colab.research.google.com/github/subinsim/myfirstcode/blob/main/CT_2nd_code.ipynb\" target=\"_parent\"><img src=\"https://colab.research.google.com/assets/colab-badge.svg\" alt=\"Open In Colab\"/></a>"
      ]
    },
    {
      "cell_type": "markdown",
      "source": [
        "2. 사용자로부터 3개의 변수를 입력받아서 합을 구하고, 평균을 구하는 코드\n",
        " - 변수는 :n1, n2, n3, total, average\n",
        "\n"
      ],
      "metadata": {
        "id": "5TJyPAKPlTHd"
      }
    },
    {
      "cell_type": "code",
      "source": [
        "n1 = int(input(\"n1의 값을 입력하시오.: \"))\n",   # 사용자로부터 n1의 값을 입력받아 정수로 변환하여 변수 n1에 저장합니다.
        "n2 = int(input(\"n2의 값을 입력하시오.: \"))\n",   # 사용자로부터 n2의 값을 입력받아 정수로 변환하여 변수 n2에 저장합니다.
        "n3 = int(input(\"n3의 값을 입력하시오.: \"))\n",   # 사용자로부터 n3의 값을 입력받아 정수로 변환하여 변수 n2에 저장합니다.
        "total = n1 + n2 + n3\n",                      # 변수 n1, n2, n3의 합을 구하여 변수 total에 저장합니다.
        "print('합계는 :',total)\n",                     # 변수 total의 값을 출력합니다.
        "average  = total / 3\n",                      # 변수 total을 3으로 나누어 평균을 구하여 변수 average에 저장합니다.
        "print('평균은 :', average)"                     # 변수 average의 값을 출력합니다.
      ],
      "metadata": {
        "colab": {
          "base_uri": "https://localhost:8080/"
        },
        "id": "bA1vQkNCmWc9",
        "outputId": "a89ef47c-7ef2-40c1-d4dc-c96602347b23"
      },
      "execution_count": 3,
      "outputs": [
        {
          "output_type": "stream",
          "name": "stdout",
          "text": [
            "n1의 값을 입력하시오.: 50\n",
            "n2의 값을 입력하시오.: 60\n",
            "n3의 값을 입력하시오.: 70\n",
            "합계는 : 180\n",
            "평균은 : 60.0\n"
          ]
        }
      ]
    }
  ]
}

사용자로부터 n1, n2, n3의 값을 입력받은 후, 입력받은 값들의 합과 평균이 출력됩니다. 예를 들어, n1에 50, n2에 60, n3에 70을 입력한 경우 다음과 같은 결과가 출력됩니다:
